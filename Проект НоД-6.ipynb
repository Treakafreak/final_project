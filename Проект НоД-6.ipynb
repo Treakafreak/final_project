{
 "cells": [
  {
   "cell_type": "markdown",
   "id": "206e67fe",
   "metadata": {},
   "source": [
    "# Привет!\n",
    "#### Это мой проект по здравоохранению. Он состоит из 3х частей:\n",
    "* __Российское здравоохранение__\n",
    "* __Сравнение с международным__\n",
    "* __Приложение в streamlit__\n",
    "\n",
    "#### Для начала сделаем наш список источников и загрузим наши данные"
   ]
  },
  {
   "cell_type": "markdown",
   "id": "17ef6231",
   "metadata": {},
   "source": [
    "* \thttps://www.ffoms.gov.ru/documents/registry/?region=362&rgn= __(Парсинг selenium)__\n",
    "*\thttps://rosstat.gov.ru/folder/13721 __(Напрямую скачивать)__\n",
    "*\thttps://www.fedstat.ru __(Напрямую скачивать)__\n",
    "*\thttps://www.newsweek.com/worlds-best-hospitals-2022 __(Парсинг)__\n",
    "*\thttps://worldpopulationreview.com/country-rankings/best-healthcare-in-the-world\n",
    "*\thttps://www.oecd.org __(API)__\n",
    "*   https://www.worldbank.org/en/home __(API+Парсинг напрямую)__\n",
    "*   https://www.healthdata.org/gbd/2019 __(Напрямую скачивать)__\n",
    "*   https://vademec.ru/download/top200clinics2021.pdf __(Парсинг PDF)__\n",
    "*   https://healthdata.gov\n",
    "*   https://mosgorzdrav.ru/ru-RU/metricks/default/index.html?group_id=1\n",
    "*   https://data.mos.ru/opendata"
   ]
  },
  {
   "cell_type": "code",
   "execution_count": 6,
   "id": "c6abb647",
   "metadata": {},
   "outputs": [],
   "source": [
    "import pandas as pd\n",
    "import numpy as np\n",
    "import math\n",
    "import requests\n",
    "from selenium import webdriver\n",
    "from selenium.webdriver.common.by import By\n",
    "from selenium.webdriver.support.ui import Select\n",
    "from bs4 import BeautifulSoup\n",
    "import json\n",
    "import re\n",
    "import geopandas\n",
    "from shapely.geometry import Polygon\n",
    "import geopandas as gpd\n",
    "import folium\n",
    "import matplotlib.pyplot as plt\n",
    "import datetime as dt\n",
    "import pandas_datareader.data as web\n",
    "import wbgapi as wb"
   ]
  },
  {
   "cell_type": "code",
   "execution_count": 32,
   "id": "c39b50f0",
   "metadata": {},
   "outputs": [],
   "source": [
    "import warnings\n",
    "warnings.filterwarnings(\"ignore\")"
   ]
  },
  {
   "cell_type": "markdown",
   "id": "5df0245d",
   "metadata": {},
   "source": [
    "### Москва и Санкт-Петербург\n",
    "Доделать Санкт-Петербург, довести все до логичного финала"
   ]
  },
  {
   "cell_type": "code",
   "execution_count": 7,
   "id": "6d75753c",
   "metadata": {},
   "outputs": [],
   "source": [
    "def fs(x):\n",
    "    return x.apply(lambda z: z.split(',')[0].strip())"
   ]
  },
  {
   "cell_type": "code",
   "execution_count": 29,
   "id": "b77586ef",
   "metadata": {},
   "outputs": [
    {
     "name": "stdout",
     "output_type": "stream",
     "text": [
      "Collecting webdriver-manager\n",
      "  Downloading webdriver_manager-3.7.0-py2.py3-none-any.whl (25 kB)\n",
      "Requirement already satisfied: requests in ./opt/anaconda3/lib/python3.9/site-packages (from webdriver-manager) (2.28.0)\n",
      "Collecting python-dotenv\n",
      "  Downloading python_dotenv-0.20.0-py3-none-any.whl (17 kB)\n",
      "Requirement already satisfied: charset-normalizer~=2.0.0 in ./opt/anaconda3/lib/python3.9/site-packages (from requests->webdriver-manager) (2.0.4)\n",
      "Requirement already satisfied: idna<4,>=2.5 in ./opt/anaconda3/lib/python3.9/site-packages (from requests->webdriver-manager) (3.2)\n",
      "Requirement already satisfied: urllib3<1.27,>=1.21.1 in ./opt/anaconda3/lib/python3.9/site-packages (from requests->webdriver-manager) (1.26.7)\n",
      "Requirement already satisfied: certifi>=2017.4.17 in ./opt/anaconda3/lib/python3.9/site-packages (from requests->webdriver-manager) (2021.10.8)\n",
      "Installing collected packages: python-dotenv, webdriver-manager\n",
      "Successfully installed python-dotenv-0.20.0 webdriver-manager-3.7.0\n",
      "Note: you may need to restart the kernel to use updated packages.\n"
     ]
    }
   ],
   "source": [
    "%pip install webdriver-manager\n",
    "from webdriver_manager.chrome import ChromeDriverManager"
   ]
  },
  {
   "cell_type": "code",
   "execution_count": 33,
   "id": "edd89a1b",
   "metadata": {},
   "outputs": [
    {
     "name": "stdout",
     "output_type": "stream",
     "text": [
      "\n"
     ]
    },
    {
     "name": "stderr",
     "output_type": "stream",
     "text": [
      "[WDM] - ====== WebDriver manager ======\n",
      "[WDM] - Current google-chrome version is 102.0.5005\n",
      "[WDM] - Get LATEST chromedriver version for 102.0.5005 google-chrome\n",
      "[WDM] - Driver [/Users/andrejkarpov/.wdm/drivers/chromedriver/mac64/102.0.5005.61/chromedriver] found in cache\n"
     ]
    }
   ],
   "source": [
    "browser = webdriver.Chrome(ChromeDriverManager().install())\n",
    "browser.get('https://www.ffoms.gov.ru/documents/registry/?region=362&rgn=')\n",
    "l=browser.find_element(By.CLASS_NAME, \"btn-success\")\n",
    "l.click()\n",
    "browser.get('https://www.ffoms.gov.ru/documents/registry/data.php')\n",
    "moscow_soup = BeautifulSoup(browser.page_source)\n",
    "moscow_raw=moscow_soup.body.get_text()\n",
    "browser.get('https://www.ffoms.gov.ru/documents/registry/?region=362&rgn=')\n",
    "select = Select(browser.find_element_by_id('selectRgnId'))\n",
    "select.select_by_visible_text('г. Санкт-Петербург')\n",
    "l=browser.find_element(By.CLASS_NAME, \"btn-success\")\n",
    "l.click()\n",
    "browser.get('https://www.ffoms.gov.ru/documents/registry/data.php')\n",
    "spb_soup = BeautifulSoup(browser.page_source)\n",
    "spb_raw=spb_soup.body.get_text()"
   ]
  },
  {
   "cell_type": "code",
   "execution_count": 9,
   "id": "31f563cc",
   "metadata": {},
   "outputs": [],
   "source": [
    "def data_clean(moscow_raw):\n",
    "    moscow_raw=moscow_raw[61:len(moscow_raw)-2]\n",
    "    for i in re.findall('balloonContent\": \".+\", \"c', moscow_raw):\n",
    "        j=i[18:len(i)-5].replace('\"',\"'\")\n",
    "        moscow_raw=moscow_raw.replace(i[18:len(i)-5],j)\n",
    "    for i in re.findall('\"clusterCaption\": \".+\", \"h', moscow_raw):\n",
    "        j=i[19:len(i)-5].replace('\"',\"'\")\n",
    "        moscow_raw=moscow_raw.replace(i[19:len(i)-5],j)\n",
    "    for i in re.findall('\"hintContent\": \".+\"', moscow_raw):\n",
    "        j=i[16:len(i)-2].replace('\"',\"'\")\n",
    "        moscow_raw=moscow_raw.replace(i[16:len(i)-2],j)\n",
    "    moscow_raw=moscow_raw.replace('\\\\','')\n",
    "    moscow_dataset={'hospitals':[]}\n",
    "    for i in moscow_raw.split('\\n'):\n",
    "        if len(i.strip())>1:\n",
    "            moscow_dataset['hospitals'].append(json.loads(i.strip().strip(',').strip()))\n",
    "    moscow_dataset=json.loads(json.dumps(moscow_dataset))\n",
    "    return moscow_dataset"
   ]
  },
  {
   "cell_type": "code",
   "execution_count": 10,
   "id": "b65beef4",
   "metadata": {},
   "outputs": [],
   "source": [
    "def concat(df):\n",
    "    x=[]\n",
    "    for i in df['Виды медицинской помощи']:\n",
    "        x.extend(str(i).split(','))\n",
    "    while 'nan' in x:\n",
    "        x.remove('nan')\n",
    "    if 'nan' not in x:\n",
    "        return list(set(x))\n",
    "    else:\n",
    "        print(x)\n",
    "        return None"
   ]
  },
  {
   "cell_type": "code",
   "execution_count": 11,
   "id": "3495b3ab",
   "metadata": {},
   "outputs": [],
   "source": [
    "def make_df(moscow_dataset):\n",
    "    moscow_df=[]\n",
    "    for i in moscow_dataset['hospitals']:\n",
    "        moscow_df.append([i['id'],i['geometry']['coordinates'][1],i['geometry']['coordinates'][0] ,i['properties']['balloonContent'],i['properties']['hintContent']])\n",
    "    moscow_df=pd.DataFrame(moscow_df, columns=['id','lon','lat', 'name+adress', 'name'])\n",
    "    moscow_df=gpd.GeoDataFrame(moscow_df, geometry = gpd.points_from_xy(moscow_df['lon'], moscow_df['lat']))\n",
    "    moscow_df['name'] = moscow_df['name'].str.replace(\"'\",'\"')\n",
    "    return moscow_df"
   ]
  },
  {
   "cell_type": "code",
   "execution_count": 12,
   "id": "9192fedc",
   "metadata": {},
   "outputs": [],
   "source": [
    "spb_dataset=data_clean(spb_raw)\n",
    "moscow_dataset=data_clean(moscow_raw)\n",
    "moscow_df=make_df(moscow_dataset)\n",
    "spb_df=make_df(spb_dataset)"
   ]
  },
  {
   "cell_type": "code",
   "execution_count": 13,
   "id": "4553ffe8",
   "metadata": {},
   "outputs": [],
   "source": [
    "classification=pd.read_excel('V008 Вид мед.помощи.xlsx')\n",
    "classification=classification[['IDVMP', 'VMPNAME']].set_index('IDVMP').to_dict()['VMPNAME']"
   ]
  },
  {
   "cell_type": "code",
   "execution_count": 14,
   "id": "0ecda3f1",
   "metadata": {},
   "outputs": [],
   "source": [
    "def make_class(df1,df2, classification):\n",
    "    df1=df1[['Полное наименование медицинской организации', 'Виды медицинской помощи']]\n",
    "    df1=df1.groupby('Полное наименование медицинской организации').apply(concat)\n",
    "    df1=pd.DataFrame(df1)\n",
    "    df3=df2.set_index('name').join(df1, how='left')\n",
    "    df3=df1.reset_index().dropna()\n",
    "    for i in df3[0]:\n",
    "        for j in range(len(i)):\n",
    "            i[j]=classification[int(i[j])]\n",
    "    return df3"
   ]
  },
  {
   "cell_type": "code",
   "execution_count": 15,
   "id": "d6259068",
   "metadata": {},
   "outputs": [],
   "source": [
    "russia_data=pd.read_excel('МО-Портал-5.xls')\n",
    "moscow_type_raw=russia_data[russia_data['Наименование субъекта Российской Федерации']=='г. Москва']\n",
    "moscow_type_raw=moscow_type_raw[(fs(moscow_type_raw['Адрес (место) нахождения МО'])=='Г. МОСКВА')|(fs(moscow_type_raw['Адрес (место) нахождения МО'])=='Г.МОСКВА')]\n",
    "moscow_df_with_classes=make_class(moscow_type_raw,moscow_df, classification )"
   ]
  },
  {
   "cell_type": "code",
   "execution_count": 16,
   "id": "38cecae4",
   "metadata": {},
   "outputs": [
    {
     "name": "stdout",
     "output_type": "stream",
     "text": [
      "           Полное наименование медицинской организации  \\\n",
      "0    АВТОНОМНАЯ НЕКОММЕРЧЕСКАЯ ОРГАНИЗАЦИЯ \"МЕДИЦИН...   \n",
      "1    АВТОНОМНАЯ НЕКОММЕРЧЕСКАЯ ОРГАНИЗАЦИЯ \"МЕДИЦИН...   \n",
      "2    АВТОНОМНАЯ НЕКОММЕРЧЕСКАЯ ОРГАНИЗАЦИЯ «МЕДИЦИН...   \n",
      "3          АКЦИОНЕРНОЕ ОБЩЕСТВО \"АДМИРАЛТЕЙСКИЕ ВЕРФИ\"   \n",
      "4              АКЦИОНЕРНОЕ ОБЩЕСТВО \"БАЛТИЙСКИЙ ЗАВОД\"   \n",
      "..                                                 ...   \n",
      "367  ФЕДЕРАЛЬНОЕ ГОСУДАРСТВЕННОЕ КАЗЕННОЕ УЧРЕЖДЕНИ...   \n",
      "368  ФЕДЕРАЛЬНОЕ ГОСУДАРСТВЕННОЕ КАЗЕННОЕ УЧРЕЖДЕНИ...   \n",
      "369  ФЕДЕРАЛЬНОЕ КАЗЕННОЕ УЧРЕЖДЕНИЕ ЗДРАВООХРАНЕНИ...   \n",
      "370     ЧАСТНОЕ МЕДИЦИНСКОЕ УЧРЕЖДЕНИЕ \"ЕВРОМЕДСЕРВИС\"   \n",
      "371  ЧАСТНОЕ УЧРЕЖДЕНИЕ ЗДРАВООХРАНЕНИЯ \"КЛИНИЧЕСКА...   \n",
      "\n",
      "                                                     0  \n",
      "0    [первичная специализированная медико-санитарна...  \n",
      "1    [первичная специализированная медико-санитарна...  \n",
      "2    [первичная специализированная медико-санитарна...  \n",
      "3    [первичная специализированная медико-санитарна...  \n",
      "4    [первичная специализированная медико-санитарна...  \n",
      "..                                                 ...  \n",
      "367  [первичная специализированная медико-санитарна...  \n",
      "368  [специализированная медицинская помощь, первич...  \n",
      "369  [первичная доврачебная медико-санитарная помощ...  \n",
      "370  [первичная специализированная медико-санитарна...  \n",
      "371  [скорая специализированная медицинская помощь,...  \n",
      "\n",
      "[372 rows x 2 columns]\n"
     ]
    }
   ],
   "source": [
    "spb_type_raw=russia_data[russia_data['Наименование субъекта Российской Федерации']=='г. Санкт-Петербург']\n",
    "spb_type_raw=spb_type_raw[ (fs(spb_type_raw['Адрес (место) нахождения МО'])=='САНКТ-ПЕТЕРБУРГ')| (fs(spb_type_raw['Адрес (место) нахождения МО'])=='САНКТ-ПЕТЕРБУРГ Г')|( fs(spb_type_raw['Адрес (место) нахождения МО'])=='САНКТ-ПЕТЕРПУРГ' )| (fs(spb_type_raw['Адрес (место) нахождения МО'])=='САНКТ-ПЕТЕРБУРГ ГОРОД')]\n",
    "spb_df_with_classes=make_class(spb_type_raw,spb_df, classification)\n",
    "print(spb_df_with_classes)"
   ]
  },
  {
   "cell_type": "markdown",
   "id": "e9f59ea9",
   "metadata": {},
   "source": [
    "### Мир"
   ]
  },
  {
   "cell_type": "code",
   "execution_count": 17,
   "id": "c39fe671",
   "metadata": {},
   "outputs": [],
   "source": [
    "datasets=['SP.POP.TOTL','NY.GDP.PCAP.CD', 'SH.XPD.CHEX.PC.CD','EN.ATM.CO2E.PC', 'NV.AGR.TOTL.ZS', 'SP.DYN.CBRT.IN', 'SP.DYN.LE00.IN' ]\n",
    "data=wb.data.DataFrame(datasets, time=range(2000,2019))"
   ]
  },
  {
   "cell_type": "code",
   "execution_count": 18,
   "id": "a83c8202",
   "metadata": {},
   "outputs": [
    {
     "name": "stdout",
     "output_type": "stream",
     "text": [
      "                                 YR2000        YR2001        YR2002  \\\n",
      "economy series                                                        \n",
      "ABW     EN.ATM.CO2E.PC              NaN           NaN           NaN   \n",
      "        NV.AGR.TOTL.ZS     4.100218e-01  4.051498e-01  4.022158e-01   \n",
      "        NY.GDP.PCAP.CD     2.061775e+04  2.067037e+04  2.043689e+04   \n",
      "        SH.XPD.CHEX.PC.CD           NaN           NaN           NaN   \n",
      "        SP.DYN.CBRT.IN     1.417300e+01  1.376200e+01  1.337500e+01   \n",
      "...                                 ...           ...           ...   \n",
      "ZWE     NY.GDP.PCAP.CD     5.630575e+02  5.683863e+02  5.305304e+02   \n",
      "        SH.XPD.CHEX.PC.CD           NaN           NaN           NaN   \n",
      "        SP.DYN.CBRT.IN     3.177600e+01  3.196300e+01  3.227400e+01   \n",
      "        SP.DYN.LE00.IN     4.464900e+01  4.401000e+01  4.352300e+01   \n",
      "        SP.POP.TOTL        1.188148e+07  1.192391e+07  1.195429e+07   \n",
      "\n",
      "                                 YR2003        YR2004        YR2005  \\\n",
      "economy series                                                        \n",
      "ABW     EN.ATM.CO2E.PC              NaN           NaN           NaN   \n",
      "        NV.AGR.TOTL.ZS     4.013820e-01  3.916520e-01  3.866731e-01   \n",
      "        NY.GDP.PCAP.CD     2.083398e+04  2.256837e+04  2.330074e+04   \n",
      "        SH.XPD.CHEX.PC.CD           NaN           NaN           NaN   \n",
      "        SP.DYN.CBRT.IN     1.301000e+01  1.266700e+01  1.234800e+01   \n",
      "...                                 ...           ...           ...   \n",
      "ZWE     NY.GDP.PCAP.CD     4.780076e+02  4.829985e+02  4.765554e+02   \n",
      "        SH.XPD.CHEX.PC.CD           NaN           NaN           NaN   \n",
      "        SP.DYN.CBRT.IN     3.269400e+01  3.319600e+01  3.376400e+01   \n",
      "        SP.DYN.LE00.IN     4.319500e+01  4.306500e+01  4.324100e+01   \n",
      "        SP.POP.TOTL        1.198222e+07  1.201991e+07  1.207670e+07   \n",
      "\n",
      "                                 YR2006        YR2007        YR2008  \\\n",
      "economy series                                                        \n",
      "ABW     EN.ATM.CO2E.PC              NaN           NaN           NaN   \n",
      "        NV.AGR.TOTL.ZS     3.937558e-01  4.052339e-01  3.807285e-01   \n",
      "        NY.GDP.PCAP.CD     2.404623e+04  2.583411e+04  2.708363e+04   \n",
      "        SH.XPD.CHEX.PC.CD           NaN           NaN           NaN   \n",
      "        SP.DYN.CBRT.IN     1.205300e+01  1.178800e+01  1.155600e+01   \n",
      "...                                 ...           ...           ...   \n",
      "ZWE     NY.GDP.PCAP.CD     4.478547e+02  4.317873e+02  3.566932e+02   \n",
      "        SH.XPD.CHEX.PC.CD           NaN           NaN           NaN   \n",
      "        SP.DYN.CBRT.IN     3.438400e+01  3.502100e+01  3.562400e+01   \n",
      "        SP.DYN.LE00.IN     4.385300e+01  4.494700e+01  4.650400e+01   \n",
      "        SP.POP.TOTL        1.215550e+07  1.225592e+07  1.237955e+07   \n",
      "\n",
      "                                 YR2009        YR2010        YR2011  \\\n",
      "economy series                                                        \n",
      "ABW     EN.ATM.CO2E.PC              NaN           NaN           NaN   \n",
      "        NV.AGR.TOTL.ZS     4.403979e-01           NaN           NaN   \n",
      "        NY.GDP.PCAP.CD     2.463118e+04  2.351353e+04  2.498501e+04   \n",
      "        SH.XPD.CHEX.PC.CD           NaN           NaN           NaN   \n",
      "        SP.DYN.CBRT.IN     1.136100e+01  1.121400e+01  1.112300e+01   \n",
      "...                                 ...           ...           ...   \n",
      "ZWE     NY.GDP.PCAP.CD     7.715990e+02  9.483315e+02  1.093653e+03   \n",
      "        SH.XPD.CHEX.PC.CD           NaN  9.934856e+01  8.838670e+01   \n",
      "        SP.DYN.CBRT.IN     3.613400e+01  3.646400e+01  3.652600e+01   \n",
      "        SP.DYN.LE00.IN     4.844900e+01  5.064000e+01  5.289600e+01   \n",
      "        SP.POP.TOTL        1.252696e+07  1.269773e+07  1.289432e+07   \n",
      "\n",
      "                                 YR2012        YR2013        YR2014  \\\n",
      "economy series                                                        \n",
      "ABW     EN.ATM.CO2E.PC              NaN           NaN           NaN   \n",
      "        NV.AGR.TOTL.ZS              NaN           NaN           NaN   \n",
      "        NY.GDP.PCAP.CD     2.471249e+04  2.644162e+04  2.689301e+04   \n",
      "        SH.XPD.CHEX.PC.CD           NaN           NaN           NaN   \n",
      "        SP.DYN.CBRT.IN     1.109000e+01  1.111100e+01  1.117900e+01   \n",
      "...                                 ...           ...           ...   \n",
      "ZWE     NY.GDP.PCAP.CD     1.304968e+03  1.429998e+03  1.434896e+03   \n",
      "        SH.XPD.CHEX.PC.CD  9.028308e+01  1.016749e+02  1.167105e+02   \n",
      "        SP.DYN.CBRT.IN     3.629200e+01  3.576800e+01  3.497800e+01   \n",
      "        SP.DYN.LE00.IN     5.503200e+01  5.689700e+01  5.841000e+01   \n",
      "        SP.POP.TOTL        1.311515e+07  1.335038e+07  1.358671e+07   \n",
      "\n",
      "                                 YR2015        YR2016        YR2017  \\\n",
      "economy series                                                        \n",
      "ABW     EN.ATM.CO2E.PC              NaN           NaN           NaN   \n",
      "        NV.AGR.TOTL.ZS              NaN           NaN           NaN   \n",
      "        NY.GDP.PCAP.CD     2.839691e+04  2.845217e+04  2.935081e+04   \n",
      "        SH.XPD.CHEX.PC.CD           NaN           NaN           NaN   \n",
      "        SP.DYN.CBRT.IN     1.128100e+01  1.140400e+01  1.153200e+01   \n",
      "...                                 ...           ...           ...   \n",
      "ZWE     NY.GDP.PCAP.CD     1.445070e+03  1.464589e+03  1.235189e+03   \n",
      "        SH.XPD.CHEX.PC.CD  1.076870e+02  1.124114e+02  1.156462e+02   \n",
      "        SP.DYN.CBRT.IN     3.398100e+01  3.286400e+01  3.173200e+01   \n",
      "        SP.DYN.LE00.IN     5.953400e+01  6.029400e+01  6.081200e+01   \n",
      "        SP.POP.TOTL        1.381464e+07  1.403034e+07  1.423660e+07   \n",
      "\n",
      "                                 YR2018  \n",
      "economy series                           \n",
      "ABW     EN.ATM.CO2E.PC              NaN  \n",
      "        NV.AGR.TOTL.ZS              NaN  \n",
      "        NY.GDP.PCAP.CD     3.025328e+04  \n",
      "        SH.XPD.CHEX.PC.CD           NaN  \n",
      "        SP.DYN.CBRT.IN     1.165200e+01  \n",
      "...                                 ...  \n",
      "ZWE     NY.GDP.PCAP.CD     1.254642e+03  \n",
      "        SH.XPD.CHEX.PC.CD  1.413693e+02  \n",
      "        SP.DYN.CBRT.IN     3.067600e+01  \n",
      "        SP.DYN.LE00.IN     6.119500e+01  \n",
      "        SP.POP.TOTL        1.443881e+07  \n",
      "\n",
      "[1862 rows x 19 columns]\n"
     ]
    }
   ],
   "source": [
    "data1=pd.melt(data.reset_index(), id_vars=['series','economy'], value_vars=list(data.columns))\n",
    "data1=pd.pivot(data1,index=['economy','variable'],columns='series').reset_index().dropna()\n",
    "data_for_regression=data1['value']\n",
    "data_for_visualizations=data\n",
    "print(data)"
   ]
  },
  {
   "cell_type": "code",
   "execution_count": 19,
   "id": "0bb79b23",
   "metadata": {},
   "outputs": [
    {
     "name": "stdout",
     "output_type": "stream",
     "text": [
      "Collecting telebot\n",
      "  Using cached telebot-0.0.4-py3-none-any.whl (4.6 kB)\n",
      "Requirement already satisfied: requests in ./opt/anaconda3/lib/python3.9/site-packages (from telebot) (2.28.0)\n",
      "Requirement already satisfied: urllib3<1.27,>=1.21.1 in ./opt/anaconda3/lib/python3.9/site-packages (from requests->telebot) (1.26.7)\n",
      "Requirement already satisfied: charset-normalizer~=2.0.0 in ./opt/anaconda3/lib/python3.9/site-packages (from requests->telebot) (2.0.4)\n",
      "Requirement already satisfied: certifi>=2017.4.17 in ./opt/anaconda3/lib/python3.9/site-packages (from requests->telebot) (2021.10.8)\n",
      "Requirement already satisfied: idna<4,>=2.5 in ./opt/anaconda3/lib/python3.9/site-packages (from requests->telebot) (3.2)\n",
      "Installing collected packages: telebot\n",
      "Successfully installed telebot-0.0.4\n",
      "Note: you may need to restart the kernel to use updated packages.\n"
     ]
    }
   ],
   "source": [
    "%pip install telebot"
   ]
  },
  {
   "cell_type": "code",
   "execution_count": 7,
   "id": "16c20705",
   "metadata": {},
   "outputs": [
    {
     "ename": "ReadTimeout",
     "evalue": "HTTPSConnectionPool(host='api.telegram.org', port=443): Read timed out. (read timeout=25)",
     "output_type": "error",
     "traceback": [
      "\u001b[0;31m---------------------------------------------------------------------------\u001b[0m",
      "\u001b[0;31mtimeout\u001b[0m                                   Traceback (most recent call last)",
      "\u001b[0;32m~/opt/anaconda3/lib/python3.9/site-packages/urllib3/connectionpool.py\u001b[0m in \u001b[0;36m_make_request\u001b[0;34m(self, conn, method, url, timeout, chunked, **httplib_request_kw)\u001b[0m\n\u001b[1;32m    444\u001b[0m                     \u001b[0;31m# Otherwise it looks like a bug in the code.\u001b[0m\u001b[0;34m\u001b[0m\u001b[0;34m\u001b[0m\u001b[0m\n\u001b[0;32m--> 445\u001b[0;31m                     \u001b[0msix\u001b[0m\u001b[0;34m.\u001b[0m\u001b[0mraise_from\u001b[0m\u001b[0;34m(\u001b[0m\u001b[0me\u001b[0m\u001b[0;34m,\u001b[0m \u001b[0;32mNone\u001b[0m\u001b[0;34m)\u001b[0m\u001b[0;34m\u001b[0m\u001b[0;34m\u001b[0m\u001b[0m\n\u001b[0m\u001b[1;32m    446\u001b[0m         \u001b[0;32mexcept\u001b[0m \u001b[0;34m(\u001b[0m\u001b[0mSocketTimeout\u001b[0m\u001b[0;34m,\u001b[0m \u001b[0mBaseSSLError\u001b[0m\u001b[0;34m,\u001b[0m \u001b[0mSocketError\u001b[0m\u001b[0;34m)\u001b[0m \u001b[0;32mas\u001b[0m \u001b[0me\u001b[0m\u001b[0;34m:\u001b[0m\u001b[0;34m\u001b[0m\u001b[0;34m\u001b[0m\u001b[0m\n",
      "\u001b[0;32m~/opt/anaconda3/lib/python3.9/site-packages/urllib3/packages/six.py\u001b[0m in \u001b[0;36mraise_from\u001b[0;34m(value, from_value)\u001b[0m\n",
      "\u001b[0;32m~/opt/anaconda3/lib/python3.9/site-packages/urllib3/connectionpool.py\u001b[0m in \u001b[0;36m_make_request\u001b[0;34m(self, conn, method, url, timeout, chunked, **httplib_request_kw)\u001b[0m\n\u001b[1;32m    439\u001b[0m                 \u001b[0;32mtry\u001b[0m\u001b[0;34m:\u001b[0m\u001b[0;34m\u001b[0m\u001b[0;34m\u001b[0m\u001b[0m\n\u001b[0;32m--> 440\u001b[0;31m                     \u001b[0mhttplib_response\u001b[0m \u001b[0;34m=\u001b[0m \u001b[0mconn\u001b[0m\u001b[0;34m.\u001b[0m\u001b[0mgetresponse\u001b[0m\u001b[0;34m(\u001b[0m\u001b[0;34m)\u001b[0m\u001b[0;34m\u001b[0m\u001b[0;34m\u001b[0m\u001b[0m\n\u001b[0m\u001b[1;32m    441\u001b[0m                 \u001b[0;32mexcept\u001b[0m \u001b[0mBaseException\u001b[0m \u001b[0;32mas\u001b[0m \u001b[0me\u001b[0m\u001b[0;34m:\u001b[0m\u001b[0;34m\u001b[0m\u001b[0;34m\u001b[0m\u001b[0m\n",
      "\u001b[0;32m~/opt/anaconda3/lib/python3.9/http/client.py\u001b[0m in \u001b[0;36mgetresponse\u001b[0;34m(self)\u001b[0m\n\u001b[1;32m   1370\u001b[0m             \u001b[0;32mtry\u001b[0m\u001b[0;34m:\u001b[0m\u001b[0;34m\u001b[0m\u001b[0;34m\u001b[0m\u001b[0m\n\u001b[0;32m-> 1371\u001b[0;31m                 \u001b[0mresponse\u001b[0m\u001b[0;34m.\u001b[0m\u001b[0mbegin\u001b[0m\u001b[0;34m(\u001b[0m\u001b[0;34m)\u001b[0m\u001b[0;34m\u001b[0m\u001b[0;34m\u001b[0m\u001b[0m\n\u001b[0m\u001b[1;32m   1372\u001b[0m             \u001b[0;32mexcept\u001b[0m \u001b[0mConnectionError\u001b[0m\u001b[0;34m:\u001b[0m\u001b[0;34m\u001b[0m\u001b[0;34m\u001b[0m\u001b[0m\n",
      "\u001b[0;32m~/opt/anaconda3/lib/python3.9/http/client.py\u001b[0m in \u001b[0;36mbegin\u001b[0;34m(self)\u001b[0m\n\u001b[1;32m    318\u001b[0m         \u001b[0;32mwhile\u001b[0m \u001b[0;32mTrue\u001b[0m\u001b[0;34m:\u001b[0m\u001b[0;34m\u001b[0m\u001b[0;34m\u001b[0m\u001b[0m\n\u001b[0;32m--> 319\u001b[0;31m             \u001b[0mversion\u001b[0m\u001b[0;34m,\u001b[0m \u001b[0mstatus\u001b[0m\u001b[0;34m,\u001b[0m \u001b[0mreason\u001b[0m \u001b[0;34m=\u001b[0m \u001b[0mself\u001b[0m\u001b[0;34m.\u001b[0m\u001b[0m_read_status\u001b[0m\u001b[0;34m(\u001b[0m\u001b[0;34m)\u001b[0m\u001b[0;34m\u001b[0m\u001b[0;34m\u001b[0m\u001b[0m\n\u001b[0m\u001b[1;32m    320\u001b[0m             \u001b[0;32mif\u001b[0m \u001b[0mstatus\u001b[0m \u001b[0;34m!=\u001b[0m \u001b[0mCONTINUE\u001b[0m\u001b[0;34m:\u001b[0m\u001b[0;34m\u001b[0m\u001b[0;34m\u001b[0m\u001b[0m\n",
      "\u001b[0;32m~/opt/anaconda3/lib/python3.9/http/client.py\u001b[0m in \u001b[0;36m_read_status\u001b[0;34m(self)\u001b[0m\n\u001b[1;32m    279\u001b[0m     \u001b[0;32mdef\u001b[0m \u001b[0m_read_status\u001b[0m\u001b[0;34m(\u001b[0m\u001b[0mself\u001b[0m\u001b[0;34m)\u001b[0m\u001b[0;34m:\u001b[0m\u001b[0;34m\u001b[0m\u001b[0;34m\u001b[0m\u001b[0m\n\u001b[0;32m--> 280\u001b[0;31m         \u001b[0mline\u001b[0m \u001b[0;34m=\u001b[0m \u001b[0mstr\u001b[0m\u001b[0;34m(\u001b[0m\u001b[0mself\u001b[0m\u001b[0;34m.\u001b[0m\u001b[0mfp\u001b[0m\u001b[0;34m.\u001b[0m\u001b[0mreadline\u001b[0m\u001b[0;34m(\u001b[0m\u001b[0m_MAXLINE\u001b[0m \u001b[0;34m+\u001b[0m \u001b[0;36m1\u001b[0m\u001b[0;34m)\u001b[0m\u001b[0;34m,\u001b[0m \u001b[0;34m\"iso-8859-1\"\u001b[0m\u001b[0;34m)\u001b[0m\u001b[0;34m\u001b[0m\u001b[0;34m\u001b[0m\u001b[0m\n\u001b[0m\u001b[1;32m    281\u001b[0m         \u001b[0;32mif\u001b[0m \u001b[0mlen\u001b[0m\u001b[0;34m(\u001b[0m\u001b[0mline\u001b[0m\u001b[0;34m)\u001b[0m \u001b[0;34m>\u001b[0m \u001b[0m_MAXLINE\u001b[0m\u001b[0;34m:\u001b[0m\u001b[0;34m\u001b[0m\u001b[0;34m\u001b[0m\u001b[0m\n",
      "\u001b[0;32m~/opt/anaconda3/lib/python3.9/socket.py\u001b[0m in \u001b[0;36mreadinto\u001b[0;34m(self, b)\u001b[0m\n\u001b[1;32m    703\u001b[0m             \u001b[0;32mtry\u001b[0m\u001b[0;34m:\u001b[0m\u001b[0;34m\u001b[0m\u001b[0;34m\u001b[0m\u001b[0m\n\u001b[0;32m--> 704\u001b[0;31m                 \u001b[0;32mreturn\u001b[0m \u001b[0mself\u001b[0m\u001b[0;34m.\u001b[0m\u001b[0m_sock\u001b[0m\u001b[0;34m.\u001b[0m\u001b[0mrecv_into\u001b[0m\u001b[0;34m(\u001b[0m\u001b[0mb\u001b[0m\u001b[0;34m)\u001b[0m\u001b[0;34m\u001b[0m\u001b[0;34m\u001b[0m\u001b[0m\n\u001b[0m\u001b[1;32m    705\u001b[0m             \u001b[0;32mexcept\u001b[0m \u001b[0mtimeout\u001b[0m\u001b[0;34m:\u001b[0m\u001b[0;34m\u001b[0m\u001b[0;34m\u001b[0m\u001b[0m\n",
      "\u001b[0;32m~/opt/anaconda3/lib/python3.9/ssl.py\u001b[0m in \u001b[0;36mrecv_into\u001b[0;34m(self, buffer, nbytes, flags)\u001b[0m\n\u001b[1;32m   1240\u001b[0m                   self.__class__)\n\u001b[0;32m-> 1241\u001b[0;31m             \u001b[0;32mreturn\u001b[0m \u001b[0mself\u001b[0m\u001b[0;34m.\u001b[0m\u001b[0mread\u001b[0m\u001b[0;34m(\u001b[0m\u001b[0mnbytes\u001b[0m\u001b[0;34m,\u001b[0m \u001b[0mbuffer\u001b[0m\u001b[0;34m)\u001b[0m\u001b[0;34m\u001b[0m\u001b[0;34m\u001b[0m\u001b[0m\n\u001b[0m\u001b[1;32m   1242\u001b[0m         \u001b[0;32melse\u001b[0m\u001b[0;34m:\u001b[0m\u001b[0;34m\u001b[0m\u001b[0;34m\u001b[0m\u001b[0m\n",
      "\u001b[0;32m~/opt/anaconda3/lib/python3.9/ssl.py\u001b[0m in \u001b[0;36mread\u001b[0;34m(self, len, buffer)\u001b[0m\n\u001b[1;32m   1098\u001b[0m             \u001b[0;32mif\u001b[0m \u001b[0mbuffer\u001b[0m \u001b[0;32mis\u001b[0m \u001b[0;32mnot\u001b[0m \u001b[0;32mNone\u001b[0m\u001b[0;34m:\u001b[0m\u001b[0;34m\u001b[0m\u001b[0;34m\u001b[0m\u001b[0m\n\u001b[0;32m-> 1099\u001b[0;31m                 \u001b[0;32mreturn\u001b[0m \u001b[0mself\u001b[0m\u001b[0;34m.\u001b[0m\u001b[0m_sslobj\u001b[0m\u001b[0;34m.\u001b[0m\u001b[0mread\u001b[0m\u001b[0;34m(\u001b[0m\u001b[0mlen\u001b[0m\u001b[0;34m,\u001b[0m \u001b[0mbuffer\u001b[0m\u001b[0;34m)\u001b[0m\u001b[0;34m\u001b[0m\u001b[0;34m\u001b[0m\u001b[0m\n\u001b[0m\u001b[1;32m   1100\u001b[0m             \u001b[0;32melse\u001b[0m\u001b[0;34m:\u001b[0m\u001b[0;34m\u001b[0m\u001b[0;34m\u001b[0m\u001b[0m\n",
      "\u001b[0;31mtimeout\u001b[0m: The read operation timed out",
      "\nDuring handling of the above exception, another exception occurred:\n",
      "\u001b[0;31mReadTimeoutError\u001b[0m                          Traceback (most recent call last)",
      "\u001b[0;32m~/opt/anaconda3/lib/python3.9/site-packages/requests/adapters.py\u001b[0m in \u001b[0;36msend\u001b[0;34m(self, request, stream, timeout, verify, cert, proxies)\u001b[0m\n\u001b[1;32m    488\u001b[0m             \u001b[0;32mif\u001b[0m \u001b[0;32mnot\u001b[0m \u001b[0mchunked\u001b[0m\u001b[0;34m:\u001b[0m\u001b[0;34m\u001b[0m\u001b[0;34m\u001b[0m\u001b[0m\n\u001b[0;32m--> 489\u001b[0;31m                 resp = conn.urlopen(\n\u001b[0m\u001b[1;32m    490\u001b[0m                     \u001b[0mmethod\u001b[0m\u001b[0;34m=\u001b[0m\u001b[0mrequest\u001b[0m\u001b[0;34m.\u001b[0m\u001b[0mmethod\u001b[0m\u001b[0;34m,\u001b[0m\u001b[0;34m\u001b[0m\u001b[0;34m\u001b[0m\u001b[0m\n",
      "\u001b[0;32m~/opt/anaconda3/lib/python3.9/site-packages/urllib3/connectionpool.py\u001b[0m in \u001b[0;36murlopen\u001b[0;34m(self, method, url, body, headers, retries, redirect, assert_same_host, timeout, pool_timeout, release_conn, chunked, body_pos, **response_kw)\u001b[0m\n\u001b[1;32m    754\u001b[0m \u001b[0;34m\u001b[0m\u001b[0m\n\u001b[0;32m--> 755\u001b[0;31m             retries = retries.increment(\n\u001b[0m\u001b[1;32m    756\u001b[0m                 \u001b[0mmethod\u001b[0m\u001b[0;34m,\u001b[0m \u001b[0murl\u001b[0m\u001b[0;34m,\u001b[0m \u001b[0merror\u001b[0m\u001b[0;34m=\u001b[0m\u001b[0me\u001b[0m\u001b[0;34m,\u001b[0m \u001b[0m_pool\u001b[0m\u001b[0;34m=\u001b[0m\u001b[0mself\u001b[0m\u001b[0;34m,\u001b[0m \u001b[0m_stacktrace\u001b[0m\u001b[0;34m=\u001b[0m\u001b[0msys\u001b[0m\u001b[0;34m.\u001b[0m\u001b[0mexc_info\u001b[0m\u001b[0;34m(\u001b[0m\u001b[0;34m)\u001b[0m\u001b[0;34m[\u001b[0m\u001b[0;36m2\u001b[0m\u001b[0;34m]\u001b[0m\u001b[0;34m\u001b[0m\u001b[0;34m\u001b[0m\u001b[0m\n",
      "\u001b[0;32m~/opt/anaconda3/lib/python3.9/site-packages/urllib3/util/retry.py\u001b[0m in \u001b[0;36mincrement\u001b[0;34m(self, method, url, response, error, _pool, _stacktrace)\u001b[0m\n\u001b[1;32m    531\u001b[0m             \u001b[0;32mif\u001b[0m \u001b[0mread\u001b[0m \u001b[0;32mis\u001b[0m \u001b[0;32mFalse\u001b[0m \u001b[0;32mor\u001b[0m \u001b[0;32mnot\u001b[0m \u001b[0mself\u001b[0m\u001b[0;34m.\u001b[0m\u001b[0m_is_method_retryable\u001b[0m\u001b[0;34m(\u001b[0m\u001b[0mmethod\u001b[0m\u001b[0;34m)\u001b[0m\u001b[0;34m:\u001b[0m\u001b[0;34m\u001b[0m\u001b[0;34m\u001b[0m\u001b[0m\n\u001b[0;32m--> 532\u001b[0;31m                 \u001b[0;32mraise\u001b[0m \u001b[0msix\u001b[0m\u001b[0;34m.\u001b[0m\u001b[0mreraise\u001b[0m\u001b[0;34m(\u001b[0m\u001b[0mtype\u001b[0m\u001b[0;34m(\u001b[0m\u001b[0merror\u001b[0m\u001b[0;34m)\u001b[0m\u001b[0;34m,\u001b[0m \u001b[0merror\u001b[0m\u001b[0;34m,\u001b[0m \u001b[0m_stacktrace\u001b[0m\u001b[0;34m)\u001b[0m\u001b[0;34m\u001b[0m\u001b[0;34m\u001b[0m\u001b[0m\n\u001b[0m\u001b[1;32m    533\u001b[0m             \u001b[0;32melif\u001b[0m \u001b[0mread\u001b[0m \u001b[0;32mis\u001b[0m \u001b[0;32mnot\u001b[0m \u001b[0;32mNone\u001b[0m\u001b[0;34m:\u001b[0m\u001b[0;34m\u001b[0m\u001b[0;34m\u001b[0m\u001b[0m\n",
      "\u001b[0;32m~/opt/anaconda3/lib/python3.9/site-packages/urllib3/packages/six.py\u001b[0m in \u001b[0;36mreraise\u001b[0;34m(tp, value, tb)\u001b[0m\n\u001b[1;32m    769\u001b[0m                 \u001b[0;32mraise\u001b[0m \u001b[0mvalue\u001b[0m\u001b[0;34m.\u001b[0m\u001b[0mwith_traceback\u001b[0m\u001b[0;34m(\u001b[0m\u001b[0mtb\u001b[0m\u001b[0;34m)\u001b[0m\u001b[0;34m\u001b[0m\u001b[0;34m\u001b[0m\u001b[0m\n\u001b[0;32m--> 770\u001b[0;31m             \u001b[0;32mraise\u001b[0m \u001b[0mvalue\u001b[0m\u001b[0;34m\u001b[0m\u001b[0;34m\u001b[0m\u001b[0m\n\u001b[0m\u001b[1;32m    771\u001b[0m         \u001b[0;32mfinally\u001b[0m\u001b[0;34m:\u001b[0m\u001b[0;34m\u001b[0m\u001b[0;34m\u001b[0m\u001b[0m\n",
      "\u001b[0;32m~/opt/anaconda3/lib/python3.9/site-packages/urllib3/connectionpool.py\u001b[0m in \u001b[0;36murlopen\u001b[0;34m(self, method, url, body, headers, retries, redirect, assert_same_host, timeout, pool_timeout, release_conn, chunked, body_pos, **response_kw)\u001b[0m\n\u001b[1;32m    698\u001b[0m             \u001b[0;31m# Make the request on the httplib connection object.\u001b[0m\u001b[0;34m\u001b[0m\u001b[0;34m\u001b[0m\u001b[0m\n\u001b[0;32m--> 699\u001b[0;31m             httplib_response = self._make_request(\n\u001b[0m\u001b[1;32m    700\u001b[0m                 \u001b[0mconn\u001b[0m\u001b[0;34m,\u001b[0m\u001b[0;34m\u001b[0m\u001b[0;34m\u001b[0m\u001b[0m\n",
      "\u001b[0;32m~/opt/anaconda3/lib/python3.9/site-packages/urllib3/connectionpool.py\u001b[0m in \u001b[0;36m_make_request\u001b[0;34m(self, conn, method, url, timeout, chunked, **httplib_request_kw)\u001b[0m\n\u001b[1;32m    446\u001b[0m         \u001b[0;32mexcept\u001b[0m \u001b[0;34m(\u001b[0m\u001b[0mSocketTimeout\u001b[0m\u001b[0;34m,\u001b[0m \u001b[0mBaseSSLError\u001b[0m\u001b[0;34m,\u001b[0m \u001b[0mSocketError\u001b[0m\u001b[0;34m)\u001b[0m \u001b[0;32mas\u001b[0m \u001b[0me\u001b[0m\u001b[0;34m:\u001b[0m\u001b[0;34m\u001b[0m\u001b[0;34m\u001b[0m\u001b[0m\n\u001b[0;32m--> 447\u001b[0;31m             \u001b[0mself\u001b[0m\u001b[0;34m.\u001b[0m\u001b[0m_raise_timeout\u001b[0m\u001b[0;34m(\u001b[0m\u001b[0merr\u001b[0m\u001b[0;34m=\u001b[0m\u001b[0me\u001b[0m\u001b[0;34m,\u001b[0m \u001b[0murl\u001b[0m\u001b[0;34m=\u001b[0m\u001b[0murl\u001b[0m\u001b[0;34m,\u001b[0m \u001b[0mtimeout_value\u001b[0m\u001b[0;34m=\u001b[0m\u001b[0mread_timeout\u001b[0m\u001b[0;34m)\u001b[0m\u001b[0;34m\u001b[0m\u001b[0;34m\u001b[0m\u001b[0m\n\u001b[0m\u001b[1;32m    448\u001b[0m             \u001b[0;32mraise\u001b[0m\u001b[0;34m\u001b[0m\u001b[0;34m\u001b[0m\u001b[0m\n",
      "\u001b[0;32m~/opt/anaconda3/lib/python3.9/site-packages/urllib3/connectionpool.py\u001b[0m in \u001b[0;36m_raise_timeout\u001b[0;34m(self, err, url, timeout_value)\u001b[0m\n\u001b[1;32m    335\u001b[0m         \u001b[0;32mif\u001b[0m \u001b[0misinstance\u001b[0m\u001b[0;34m(\u001b[0m\u001b[0merr\u001b[0m\u001b[0;34m,\u001b[0m \u001b[0mSocketTimeout\u001b[0m\u001b[0;34m)\u001b[0m\u001b[0;34m:\u001b[0m\u001b[0;34m\u001b[0m\u001b[0;34m\u001b[0m\u001b[0m\n\u001b[0;32m--> 336\u001b[0;31m             raise ReadTimeoutError(\n\u001b[0m\u001b[1;32m    337\u001b[0m                 \u001b[0mself\u001b[0m\u001b[0;34m,\u001b[0m \u001b[0murl\u001b[0m\u001b[0;34m,\u001b[0m \u001b[0;34m\"Read timed out. (read timeout=%s)\"\u001b[0m \u001b[0;34m%\u001b[0m \u001b[0mtimeout_value\u001b[0m\u001b[0;34m\u001b[0m\u001b[0;34m\u001b[0m\u001b[0m\n",
      "\u001b[0;31mReadTimeoutError\u001b[0m: HTTPSConnectionPool(host='api.telegram.org', port=443): Read timed out. (read timeout=25)",
      "\nDuring handling of the above exception, another exception occurred:\n",
      "\u001b[0;31mReadTimeout\u001b[0m                               Traceback (most recent call last)",
      "\u001b[0;32m/var/folders/hk/hp4dttgn3xl3w9kq9rbq6j6w0000gn/T/ipykernel_5570/3558801488.py\u001b[0m in \u001b[0;36m<module>\u001b[0;34m\u001b[0m\n\u001b[1;32m     11\u001b[0m     \u001b[0mbot\u001b[0m\u001b[0;34m.\u001b[0m\u001b[0msend_message\u001b[0m\u001b[0;34m(\u001b[0m\u001b[0mmessage\u001b[0m\u001b[0;34m.\u001b[0m\u001b[0mchat\u001b[0m\u001b[0;34m.\u001b[0m\u001b[0mid\u001b[0m\u001b[0;34m,\u001b[0m \u001b[0;34m'Вы написали: '\u001b[0m \u001b[0;34m+\u001b[0m \u001b[0mmessage\u001b[0m\u001b[0;34m.\u001b[0m\u001b[0mtext\u001b[0m\u001b[0;34m)\u001b[0m\u001b[0;34m\u001b[0m\u001b[0;34m\u001b[0m\u001b[0m\n\u001b[1;32m     12\u001b[0m \u001b[0;31m# Запускаем бота\u001b[0m\u001b[0;34m\u001b[0m\u001b[0;34m\u001b[0m\u001b[0m\n\u001b[0;32m---> 13\u001b[0;31m \u001b[0mbot\u001b[0m\u001b[0;34m.\u001b[0m\u001b[0mpolling\u001b[0m\u001b[0;34m(\u001b[0m\u001b[0mnone_stop\u001b[0m\u001b[0;34m=\u001b[0m\u001b[0;32mTrue\u001b[0m\u001b[0;34m,\u001b[0m \u001b[0minterval\u001b[0m\u001b[0;34m=\u001b[0m\u001b[0;36m0\u001b[0m\u001b[0;34m)\u001b[0m\u001b[0;34m\u001b[0m\u001b[0;34m\u001b[0m\u001b[0m\n\u001b[0m",
      "\u001b[0;32m~/opt/anaconda3/lib/python3.9/site-packages/telebot/__init__.py\u001b[0m in \u001b[0;36mpolling\u001b[0;34m(self, non_stop, skip_pending, interval, timeout, long_polling_timeout, logger_level, allowed_updates, none_stop)\u001b[0m\n",
      "\u001b[0;32m~/opt/anaconda3/lib/python3.9/site-packages/telebot/__init__.py\u001b[0m in \u001b[0;36m__threaded_polling\u001b[0;34m(self, non_stop, interval, timeout, long_polling_timeout, logger_level, allowed_updates)\u001b[0m\n",
      "\u001b[0;32m~/opt/anaconda3/lib/python3.9/site-packages/telebot/__init__.py\u001b[0m in \u001b[0;36m__threaded_polling\u001b[0;34m(self, non_stop, interval, timeout, long_polling_timeout, logger_level, allowed_updates)\u001b[0m\n",
      "\u001b[0;32m~/opt/anaconda3/lib/python3.9/site-packages/telebot/util.py\u001b[0m in \u001b[0;36mraise_exceptions\u001b[0;34m(self)\u001b[0m\n\u001b[1;32m    105\u001b[0m     \u001b[0;32mdef\u001b[0m \u001b[0mraise_exceptions\u001b[0m\u001b[0;34m(\u001b[0m\u001b[0mself\u001b[0m\u001b[0;34m)\u001b[0m\u001b[0;34m:\u001b[0m\u001b[0;34m\u001b[0m\u001b[0;34m\u001b[0m\u001b[0m\n\u001b[1;32m    106\u001b[0m         \u001b[0;32mif\u001b[0m \u001b[0mself\u001b[0m\u001b[0;34m.\u001b[0m\u001b[0mexception_event\u001b[0m\u001b[0;34m.\u001b[0m\u001b[0mis_set\u001b[0m\u001b[0;34m(\u001b[0m\u001b[0;34m)\u001b[0m\u001b[0;34m:\u001b[0m\u001b[0;34m\u001b[0m\u001b[0;34m\u001b[0m\u001b[0m\n\u001b[0;32m--> 107\u001b[0;31m             \u001b[0;32mraise\u001b[0m \u001b[0mself\u001b[0m\u001b[0;34m.\u001b[0m\u001b[0mexception_info\u001b[0m\u001b[0;34m\u001b[0m\u001b[0;34m\u001b[0m\u001b[0m\n\u001b[0m\u001b[1;32m    108\u001b[0m \u001b[0;34m\u001b[0m\u001b[0m\n\u001b[1;32m    109\u001b[0m     \u001b[0;32mdef\u001b[0m \u001b[0mclear_exceptions\u001b[0m\u001b[0;34m(\u001b[0m\u001b[0mself\u001b[0m\u001b[0;34m)\u001b[0m\u001b[0;34m:\u001b[0m\u001b[0;34m\u001b[0m\u001b[0;34m\u001b[0m\u001b[0m\n",
      "\u001b[0;32m~/opt/anaconda3/lib/python3.9/site-packages/telebot/util.py\u001b[0m in \u001b[0;36mrun\u001b[0;34m(self)\u001b[0m\n\u001b[1;32m     87\u001b[0m                 \u001b[0mself\u001b[0m\u001b[0;34m.\u001b[0m\u001b[0mreceived_task_event\u001b[0m\u001b[0;34m.\u001b[0m\u001b[0mset\u001b[0m\u001b[0;34m(\u001b[0m\u001b[0;34m)\u001b[0m\u001b[0;34m\u001b[0m\u001b[0;34m\u001b[0m\u001b[0m\n\u001b[1;32m     88\u001b[0m \u001b[0;34m\u001b[0m\u001b[0m\n\u001b[0;32m---> 89\u001b[0;31m                 \u001b[0mtask\u001b[0m\u001b[0;34m(\u001b[0m\u001b[0;34m*\u001b[0m\u001b[0margs\u001b[0m\u001b[0;34m,\u001b[0m \u001b[0;34m**\u001b[0m\u001b[0mkwargs\u001b[0m\u001b[0;34m)\u001b[0m\u001b[0;34m\u001b[0m\u001b[0;34m\u001b[0m\u001b[0m\n\u001b[0m\u001b[1;32m     90\u001b[0m                 \u001b[0mlogger\u001b[0m\u001b[0;34m.\u001b[0m\u001b[0mdebug\u001b[0m\u001b[0;34m(\u001b[0m\u001b[0;34m\"Task complete\"\u001b[0m\u001b[0;34m)\u001b[0m\u001b[0;34m\u001b[0m\u001b[0;34m\u001b[0m\u001b[0m\n\u001b[1;32m     91\u001b[0m                 \u001b[0mself\u001b[0m\u001b[0;34m.\u001b[0m\u001b[0mdone_event\u001b[0m\u001b[0;34m.\u001b[0m\u001b[0mset\u001b[0m\u001b[0;34m(\u001b[0m\u001b[0;34m)\u001b[0m\u001b[0;34m\u001b[0m\u001b[0;34m\u001b[0m\u001b[0m\n",
      "\u001b[0;32m~/opt/anaconda3/lib/python3.9/site-packages/telebot/__init__.py\u001b[0m in \u001b[0;36m__retrieve_updates\u001b[0;34m(self, timeout, long_polling_timeout, allowed_updates)\u001b[0m\n",
      "\u001b[0;32m~/opt/anaconda3/lib/python3.9/site-packages/telebot/__init__.py\u001b[0m in \u001b[0;36mget_updates\u001b[0;34m(self, offset, limit, timeout, allowed_updates, long_polling_timeout)\u001b[0m\n",
      "\u001b[0;32m~/opt/anaconda3/lib/python3.9/site-packages/telebot/apihelper.py\u001b[0m in \u001b[0;36mget_updates\u001b[0;34m(token, offset, limit, timeout, allowed_updates, long_polling_timeout)\u001b[0m\n\u001b[1;32m    320\u001b[0m     \u001b[0;32mif\u001b[0m \u001b[0mallowed_updates\u001b[0m \u001b[0;32mis\u001b[0m \u001b[0;32mnot\u001b[0m \u001b[0;32mNone\u001b[0m\u001b[0;34m:\u001b[0m  \u001b[0;31m# Empty lists should pass\u001b[0m\u001b[0;34m\u001b[0m\u001b[0;34m\u001b[0m\u001b[0m\n\u001b[1;32m    321\u001b[0m         \u001b[0mpayload\u001b[0m\u001b[0;34m[\u001b[0m\u001b[0;34m'allowed_updates'\u001b[0m\u001b[0;34m]\u001b[0m \u001b[0;34m=\u001b[0m \u001b[0mjson\u001b[0m\u001b[0;34m.\u001b[0m\u001b[0mdumps\u001b[0m\u001b[0;34m(\u001b[0m\u001b[0mallowed_updates\u001b[0m\u001b[0;34m)\u001b[0m\u001b[0;34m\u001b[0m\u001b[0;34m\u001b[0m\u001b[0m\n\u001b[0;32m--> 322\u001b[0;31m     \u001b[0;32mreturn\u001b[0m \u001b[0m_make_request\u001b[0m\u001b[0;34m(\u001b[0m\u001b[0mtoken\u001b[0m\u001b[0;34m,\u001b[0m \u001b[0mmethod_url\u001b[0m\u001b[0;34m,\u001b[0m \u001b[0mparams\u001b[0m\u001b[0;34m=\u001b[0m\u001b[0mpayload\u001b[0m\u001b[0;34m)\u001b[0m\u001b[0;34m\u001b[0m\u001b[0;34m\u001b[0m\u001b[0m\n\u001b[0m\u001b[1;32m    323\u001b[0m \u001b[0;34m\u001b[0m\u001b[0m\n\u001b[1;32m    324\u001b[0m \u001b[0;34m\u001b[0m\u001b[0m\n",
      "\u001b[0;32m~/opt/anaconda3/lib/python3.9/site-packages/telebot/apihelper.py\u001b[0m in \u001b[0;36m_make_request\u001b[0;34m(token, method_name, method, params, files)\u001b[0m\n\u001b[1;32m    144\u001b[0m             timeout=(connect_timeout, read_timeout), proxies=proxy)\n\u001b[1;32m    145\u001b[0m     \u001b[0;32melse\u001b[0m\u001b[0;34m:\u001b[0m\u001b[0;34m\u001b[0m\u001b[0;34m\u001b[0m\u001b[0m\n\u001b[0;32m--> 146\u001b[0;31m         result = _get_req_session().request(\n\u001b[0m\u001b[1;32m    147\u001b[0m             \u001b[0mmethod\u001b[0m\u001b[0;34m,\u001b[0m \u001b[0mrequest_url\u001b[0m\u001b[0;34m,\u001b[0m \u001b[0mparams\u001b[0m\u001b[0;34m=\u001b[0m\u001b[0mparams\u001b[0m\u001b[0;34m,\u001b[0m \u001b[0mfiles\u001b[0m\u001b[0;34m=\u001b[0m\u001b[0mfiles\u001b[0m\u001b[0;34m,\u001b[0m\u001b[0;34m\u001b[0m\u001b[0;34m\u001b[0m\u001b[0m\n\u001b[1;32m    148\u001b[0m             timeout=(connect_timeout, read_timeout), proxies=proxy)\n",
      "\u001b[0;32m~/opt/anaconda3/lib/python3.9/site-packages/requests/sessions.py\u001b[0m in \u001b[0;36mrequest\u001b[0;34m(self, method, url, params, data, headers, cookies, files, auth, timeout, allow_redirects, proxies, hooks, stream, verify, cert, json)\u001b[0m\n\u001b[1;32m    585\u001b[0m         }\n\u001b[1;32m    586\u001b[0m         \u001b[0msend_kwargs\u001b[0m\u001b[0;34m.\u001b[0m\u001b[0mupdate\u001b[0m\u001b[0;34m(\u001b[0m\u001b[0msettings\u001b[0m\u001b[0;34m)\u001b[0m\u001b[0;34m\u001b[0m\u001b[0;34m\u001b[0m\u001b[0m\n\u001b[0;32m--> 587\u001b[0;31m         \u001b[0mresp\u001b[0m \u001b[0;34m=\u001b[0m \u001b[0mself\u001b[0m\u001b[0;34m.\u001b[0m\u001b[0msend\u001b[0m\u001b[0;34m(\u001b[0m\u001b[0mprep\u001b[0m\u001b[0;34m,\u001b[0m \u001b[0;34m**\u001b[0m\u001b[0msend_kwargs\u001b[0m\u001b[0;34m)\u001b[0m\u001b[0;34m\u001b[0m\u001b[0;34m\u001b[0m\u001b[0m\n\u001b[0m\u001b[1;32m    588\u001b[0m \u001b[0;34m\u001b[0m\u001b[0m\n\u001b[1;32m    589\u001b[0m         \u001b[0;32mreturn\u001b[0m \u001b[0mresp\u001b[0m\u001b[0;34m\u001b[0m\u001b[0;34m\u001b[0m\u001b[0m\n",
      "\u001b[0;32m~/opt/anaconda3/lib/python3.9/site-packages/requests/sessions.py\u001b[0m in \u001b[0;36msend\u001b[0;34m(self, request, **kwargs)\u001b[0m\n\u001b[1;32m    699\u001b[0m \u001b[0;34m\u001b[0m\u001b[0m\n\u001b[1;32m    700\u001b[0m         \u001b[0;31m# Send the request\u001b[0m\u001b[0;34m\u001b[0m\u001b[0;34m\u001b[0m\u001b[0m\n\u001b[0;32m--> 701\u001b[0;31m         \u001b[0mr\u001b[0m \u001b[0;34m=\u001b[0m \u001b[0madapter\u001b[0m\u001b[0;34m.\u001b[0m\u001b[0msend\u001b[0m\u001b[0;34m(\u001b[0m\u001b[0mrequest\u001b[0m\u001b[0;34m,\u001b[0m \u001b[0;34m**\u001b[0m\u001b[0mkwargs\u001b[0m\u001b[0;34m)\u001b[0m\u001b[0;34m\u001b[0m\u001b[0;34m\u001b[0m\u001b[0m\n\u001b[0m\u001b[1;32m    702\u001b[0m \u001b[0;34m\u001b[0m\u001b[0m\n\u001b[1;32m    703\u001b[0m         \u001b[0;31m# Total elapsed time of the request (approximately)\u001b[0m\u001b[0;34m\u001b[0m\u001b[0;34m\u001b[0m\u001b[0m\n",
      "\u001b[0;32m~/opt/anaconda3/lib/python3.9/site-packages/requests/adapters.py\u001b[0m in \u001b[0;36msend\u001b[0;34m(self, request, stream, timeout, verify, cert, proxies)\u001b[0m\n\u001b[1;32m    576\u001b[0m                 \u001b[0;32mraise\u001b[0m \u001b[0mSSLError\u001b[0m\u001b[0;34m(\u001b[0m\u001b[0me\u001b[0m\u001b[0;34m,\u001b[0m \u001b[0mrequest\u001b[0m\u001b[0;34m=\u001b[0m\u001b[0mrequest\u001b[0m\u001b[0;34m)\u001b[0m\u001b[0;34m\u001b[0m\u001b[0;34m\u001b[0m\u001b[0m\n\u001b[1;32m    577\u001b[0m             \u001b[0;32melif\u001b[0m \u001b[0misinstance\u001b[0m\u001b[0;34m(\u001b[0m\u001b[0me\u001b[0m\u001b[0;34m,\u001b[0m \u001b[0mReadTimeoutError\u001b[0m\u001b[0;34m)\u001b[0m\u001b[0;34m:\u001b[0m\u001b[0;34m\u001b[0m\u001b[0;34m\u001b[0m\u001b[0m\n\u001b[0;32m--> 578\u001b[0;31m                 \u001b[0;32mraise\u001b[0m \u001b[0mReadTimeout\u001b[0m\u001b[0;34m(\u001b[0m\u001b[0me\u001b[0m\u001b[0;34m,\u001b[0m \u001b[0mrequest\u001b[0m\u001b[0;34m=\u001b[0m\u001b[0mrequest\u001b[0m\u001b[0;34m)\u001b[0m\u001b[0;34m\u001b[0m\u001b[0;34m\u001b[0m\u001b[0m\n\u001b[0m\u001b[1;32m    579\u001b[0m             \u001b[0;32melif\u001b[0m \u001b[0misinstance\u001b[0m\u001b[0;34m(\u001b[0m\u001b[0me\u001b[0m\u001b[0;34m,\u001b[0m \u001b[0m_InvalidHeader\u001b[0m\u001b[0;34m)\u001b[0m\u001b[0;34m:\u001b[0m\u001b[0;34m\u001b[0m\u001b[0;34m\u001b[0m\u001b[0m\n\u001b[1;32m    580\u001b[0m                 \u001b[0;32mraise\u001b[0m \u001b[0mInvalidHeader\u001b[0m\u001b[0;34m(\u001b[0m\u001b[0me\u001b[0m\u001b[0;34m,\u001b[0m \u001b[0mrequest\u001b[0m\u001b[0;34m=\u001b[0m\u001b[0mrequest\u001b[0m\u001b[0;34m)\u001b[0m\u001b[0;34m\u001b[0m\u001b[0;34m\u001b[0m\u001b[0m\n",
      "\u001b[0;31mReadTimeout\u001b[0m: HTTPSConnectionPool(host='api.telegram.org', port=443): Read timed out. (read timeout=25)"
     ]
    }
   ],
   "source": [
    "#import telebot\n",
    "# Создаем экземпляр бота\n",
    "#bot = telebot.TeleBot('5437613672:AAFNSAwxRIF5FBLZFM3i3S8kQlxKsKoZY8s')\n",
    "# Функция, обрабатывающая команду /start\n",
    "#@bot.message_handler(commands=[\"start\"])\n",
    "#def start(m, res=False):\n",
    "    #bot.send_message(m.chat.id, 'Я на связи. Напиши мне что-нибудь )')\n",
    "# Получение сообщений от юзера\n",
    "#@bot.message_handler(content_types=[\"text\"])\n",
    "#def handle_text(message):\n",
    "    #bot.send_message(message.chat.id, 'Вы написали: ' + message.text)\n",
    "# Запускаем бота\n",
    "#bot.polling(none_stop=True, interval=0)"
   ]
  },
  {
   "cell_type": "code",
   "execution_count": null,
   "id": "45b9eec8",
   "metadata": {},
   "outputs": [],
   "source": []
  }
 ],
 "metadata": {
  "kernelspec": {
   "display_name": "Python 3 (ipykernel)",
   "language": "python",
   "name": "python3"
  },
  "language_info": {
   "codemirror_mode": {
    "name": "ipython",
    "version": 3
   },
   "file_extension": ".py",
   "mimetype": "text/x-python",
   "name": "python",
   "nbconvert_exporter": "python",
   "pygments_lexer": "ipython3",
   "version": "3.9.7"
  }
 },
 "nbformat": 4,
 "nbformat_minor": 5
}
